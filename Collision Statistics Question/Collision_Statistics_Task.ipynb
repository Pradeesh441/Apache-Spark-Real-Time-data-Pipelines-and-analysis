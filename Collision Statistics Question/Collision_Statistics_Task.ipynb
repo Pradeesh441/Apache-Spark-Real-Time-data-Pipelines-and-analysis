{
 "cells": [
  {
   "cell_type": "code",
   "execution_count": 8,
   "metadata": {
    "collapsed": false
   },
   "outputs": [],
   "source": [
    "from pyspark.sql import HiveContext\n",
    "\n",
    "sqlContext = HiveContext(sc)\n",
    "\n",
    "dframe1 = sqlContext.read.load('/home/Pradeesh/Collision_Statistics_Monthly_new.csv',\n",
    "                          format='com.databricks.spark.csv', \n",
    "                          header='true', \n",
    "                          inferSchema='true')"
   ]
  },
  {
   "cell_type": "code",
   "execution_count": 9,
   "metadata": {
    "collapsed": true
   },
   "outputs": [],
   "source": [
    "dframe1.createOrReplaceTempView(\"CollisionStatView\")"
   ]
  },
  {
   "cell_type": "code",
   "execution_count": 10,
   "metadata": {
    "collapsed": false
   },
   "outputs": [
    {
     "name": "stdout",
     "output_type": "stream",
     "text": [
      "+----+--------------------+\n",
      "|YEAR|Total Incident count|\n",
      "+----+--------------------+\n",
      "|2000|               60823|\n",
      "|2001|               58498|\n",
      "|2002|               55977|\n",
      "|2003|               50492|\n",
      "+----+--------------------+\n",
      "\n",
      "CPU times: user 0 ns, sys: 4 ms, total: 4 ms\n",
      "Wall time: 1.38 s\n"
     ]
    }
   ],
   "source": [
    "%%time\n",
    "dframe2 = spark.sql(\"\"\"select YEAR, cast(sum(FATAL + INJURY + `PROPERTY DAMAGE`) as decimal (8,0)) as `Total Incident count` \n",
    "from CollisionStatView\n",
    "GROUP BY YEAR\n",
    "ORDER BY sum(FATAL + INJURY + `PROPERTY DAMAGE`) DESC\"\"\").show()"
   ]
  },
  {
   "cell_type": "code",
   "execution_count": 13,
   "metadata": {
    "collapsed": false
   },
   "outputs": [
    {
     "name": "stdout",
     "output_type": "stream",
     "text": [
      "+----+-----------+------------------+\n",
      "|YEAR|   GeogName|Total Injury count|\n",
      "+----+-----------+------------------+\n",
      "|2000|Nova Scotia|              9849|\n",
      "|2001|Nova Scotia|              8975|\n",
      "|2002|Nova Scotia|              8471|\n",
      "|2003|Nova Scotia|              7488|\n",
      "+----+-----------+------------------+\n",
      "\n",
      "CPU times: user 0 ns, sys: 4 ms, total: 4 ms\n",
      "Wall time: 1.88 s\n"
     ]
    }
   ],
   "source": [
    "%%time\n",
    "dframe3 = spark.sql(\"\"\"select YEAR, GeogName,cast(sum(INJURY) as decimal (8,0)) as `Total Injury count` \n",
    "from CollisionStatView\n",
    "WHERE GeogName = 'Nova Scotia'\n",
    "GROUP BY YEAR, GeogName\n",
    "ORDER BY sum(INJURY) DESC\"\"\").show()"
   ]
  },
  {
   "cell_type": "code",
   "execution_count": 18,
   "metadata": {
    "collapsed": false
   },
   "outputs": [
    {
     "name": "stdout",
     "output_type": "stream",
     "text": [
      "+----+---------------+------------------+\n",
      "|YEAR|       GeogName|Total Injury count|\n",
      "+----+---------------+------------------+\n",
      "|2000|Yarmouth County|               174|\n",
      "+----+---------------+------------------+\n",
      "\n",
      "CPU times: user 0 ns, sys: 0 ns, total: 0 ns\n",
      "Wall time: 1.05 s\n"
     ]
    }
   ],
   "source": [
    "%%time\n",
    "dframe4 = spark.sql(\"\"\"select YEAR, GeogName,cast(sum(INJURY) as decimal (8,0)) as `Total Injury count` \n",
    "from CollisionStatView\n",
    "WHERE GeogName = 'Yarmouth County' and YEAR = '2000'\n",
    "GROUP BY YEAR,GeogName\n",
    "ORDER BY sum(INJURY) DESC\"\"\").show()"
   ]
  },
  {
   "cell_type": "code",
   "execution_count": null,
   "metadata": {
    "collapsed": true
   },
   "outputs": [],
   "source": []
  }
 ],
 "metadata": {
  "kernelspec": {
   "display_name": "Python 2",
   "language": "python",
   "name": "python2"
  },
  "language_info": {
   "codemirror_mode": {
    "name": "ipython",
    "version": 2
   },
   "file_extension": ".py",
   "mimetype": "text/x-python",
   "name": "python",
   "nbconvert_exporter": "python",
   "pygments_lexer": "ipython2",
   "version": "2.7.12+"
  }
 },
 "nbformat": 4,
 "nbformat_minor": 2
}
