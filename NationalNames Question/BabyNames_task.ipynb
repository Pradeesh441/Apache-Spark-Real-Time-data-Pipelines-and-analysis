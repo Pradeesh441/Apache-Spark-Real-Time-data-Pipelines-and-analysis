{
 "cells": [
  {
   "cell_type": "code",
   "execution_count": 1,
   "metadata": {
    "collapsed": true
   },
   "outputs": [],
   "source": [
    "sqlContext = SQLContext(sc)"
   ]
  },
  {
   "cell_type": "code",
   "execution_count": 2,
   "metadata": {
    "collapsed": true
   },
   "outputs": [],
   "source": [
    "dataframe1 = sqlContext.read.load('/home/Pradeesh/NationalNames.csv',\n",
    "                          format='com.databricks.spark.csv', \n",
    "                          header='true', \n",
    "                          inferSchema='true')"
   ]
  },
  {
   "cell_type": "code",
   "execution_count": 3,
   "metadata": {
    "collapsed": true
   },
   "outputs": [],
   "source": [
    "from pyspark.sql.functions import * "
   ]
  },
  {
   "cell_type": "code",
   "execution_count": 6,
   "metadata": {
    "collapsed": false
   },
   "outputs": [
    {
     "name": "stdout",
     "output_type": "stream",
     "text": [
      "CPU times: user 4 ms, sys: 0 ns, total: 4 ms\n",
      "Wall time: 80.6 ms\n",
      "+----+----------+\n",
      "|year|sum(count)|\n",
      "+----+----------+\n",
      "|1957|   4200026|\n",
      "|1959|   4156553|\n",
      "|1960|   4154810|\n",
      "|1961|   4139818|\n",
      "|1958|   4131596|\n",
      "|1956|   4121206|\n",
      "|1962|   4035493|\n",
      "|1955|   4012582|\n",
      "|2007|   3991547|\n",
      "|1954|   3979056|\n",
      "|1963|   3958972|\n",
      "|2006|   3950840|\n",
      "|1990|   3950252|\n",
      "|2008|   3923523|\n",
      "|1991|   3893897|\n",
      "|1964|   3887864|\n",
      "|1953|   3850103|\n",
      "|1989|   3843104|\n",
      "|2005|   3840220|\n",
      "|1992|   3839692|\n",
      "+----+----------+\n",
      "only showing top 20 rows\n",
      "\n"
     ]
    }
   ],
   "source": [
    "%time ques1 = dataframe1.groupBy(\"year\").sum(\"count\").sort(sum(\"count\").desc())\n",
    "ques1.show()"
   ]
  },
  {
   "cell_type": "code",
   "execution_count": 8,
   "metadata": {
    "collapsed": false
   },
   "outputs": [
    {
     "name": "stdout",
     "output_type": "stream",
     "text": [
      "CPU times: user 0 ns, sys: 4 ms, total: 4 ms\n",
      "Wall time: 32.4 ms\n",
      "+------+----+----------+\n",
      "|gender|year|sum(count)|\n",
      "+------+----+----------+\n",
      "|     F|1984|   1682973|\n",
      "|     M|1903|    119234|\n",
      "|     F|1968|   1640103|\n",
      "|     F|1983|   1670061|\n",
      "|     F|1909|    347228|\n",
      "|     F|1915|    983874|\n",
      "|     M|1910|    194218|\n",
      "|     F|1928|   1153117|\n",
      "|     F|1941|   1207919|\n",
      "|     F|1919|   1130145|\n",
      "|     F|2008|   1887234|\n",
      "|     M|1929|   1075313|\n",
      "|     F|1964|   1894594|\n",
      "|     M|1973|   1559338|\n",
      "|     M|1925|   1115958|\n",
      "|     F|1988|   1779839|\n",
      "|     M|2006|   2052377|\n",
      "|     M|1914|    654762|\n",
      "|     F|1938|   1103277|\n",
      "|     M|1948|   1754469|\n",
      "+------+----+----------+\n",
      "only showing top 20 rows\n",
      "\n"
     ]
    }
   ],
   "source": [
    "%time ques2 = dataframe1.groupBy(\"gender\",\"year\").sum(\"count\")\n",
    "ques2.show()"
   ]
  },
  {
   "cell_type": "code",
   "execution_count": 10,
   "metadata": {
    "collapsed": false
   },
   "outputs": [
    {
     "name": "stdout",
     "output_type": "stream",
     "text": [
      "CPU times: user 4 ms, sys: 0 ns, total: 4 ms\n",
      "Wall time: 42.3 ms\n",
      "+-------+\n",
      "|   name|\n",
      "+-------+\n",
      "|   Mary|\n",
      "|   John|\n",
      "|  Helen|\n",
      "|William|\n",
      "|  James|\n",
      "+-------+\n",
      "\n"
     ]
    }
   ],
   "source": [
    "%time ques3 = dataframe1.filter(dataframe1['year'] == 1905).sort(dataframe1['count'].desc()).limit(5).select(\"name\")\n",
    "ques3.show()"
   ]
  },
  {
   "cell_type": "code",
   "execution_count": 11,
   "metadata": {
    "collapsed": false
   },
   "outputs": [
    {
     "name": "stdout",
     "output_type": "stream",
     "text": [
      "CPU times: user 0 ns, sys: 4 ms, total: 4 ms\n",
      "Wall time: 38.2 ms\n",
      "+----+----------+\n",
      "|name|sum(count)|\n",
      "+----+----------+\n",
      "|Mary|   4130441|\n",
      "+----+----------+\n",
      "\n"
     ]
    }
   ],
   "source": [
    "%time ques4 = dataframe1.filter(dataframe1['name'] == \"Mary\").groupBy(\"name\").sum('count')\n",
    "ques4.show()"
   ]
  },
  {
   "cell_type": "code",
   "execution_count": null,
   "metadata": {
    "collapsed": true
   },
   "outputs": [],
   "source": []
  }
 ],
 "metadata": {
  "kernelspec": {
   "display_name": "Python 2",
   "language": "python",
   "name": "python2"
  },
  "language_info": {
   "codemirror_mode": {
    "name": "ipython",
    "version": 2
   },
   "file_extension": ".py",
   "mimetype": "text/x-python",
   "name": "python",
   "nbconvert_exporter": "python",
   "pygments_lexer": "ipython2",
   "version": "2.7.12+"
  }
 },
 "nbformat": 4,
 "nbformat_minor": 2
}
