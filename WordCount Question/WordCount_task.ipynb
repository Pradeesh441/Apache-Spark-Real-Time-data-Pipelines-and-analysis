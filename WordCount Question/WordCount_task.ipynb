{
 "cells": [
  {
   "cell_type": "code",
   "execution_count": 1,
   "metadata": {
    "collapsed": false,
    "deletable": true,
    "editable": true
   },
   "outputs": [
    {
     "name": "stdout",
     "output_type": "stream",
     "text": [
      "CPU times: user 20 ms, sys: 4 ms, total: 24 ms\n",
      "Wall time: 3.68 s\n"
     ]
    }
   ],
   "source": [
    "%%time\n",
    "ip1 = sc.textFile(\"/home/Pradeesh/WordCountInput.txt\")\n",
    "import re\n",
    "ip2 = ip1.flatMap(lambda y: y.split())\n",
    "\n",
    "def cleandata (junk):\n",
    "        return re.sub('[^a-z|0-9| ]', '',junk.strip().lower())\n",
    "    \n",
    "ip3 = ip2.map(lambda junk: cleandata(junk))\n",
    "ip4 = ip3.map(lambda word: (word, 1))\n",
    "ip5 = ip4.reduceByKey(lambda p, q: p + q)\n",
    "ip5.saveAsTextFile(\"/home/Pradeesh/WordCountOutput.txt\")"
   ]
  },
  {
   "cell_type": "code",
   "execution_count": null,
   "metadata": {
    "collapsed": true,
    "deletable": true,
    "editable": true
   },
   "outputs": [],
   "source": []
  }
 ],
 "metadata": {
  "kernelspec": {
   "display_name": "Python 2",
   "language": "python",
   "name": "python2"
  },
  "language_info": {
   "codemirror_mode": {
    "name": "ipython",
    "version": 2
   },
   "file_extension": ".py",
   "mimetype": "text/x-python",
   "name": "python",
   "nbconvert_exporter": "python",
   "pygments_lexer": "ipython2",
   "version": "2.7.12+"
  }
 },
 "nbformat": 4,
 "nbformat_minor": 2
}
